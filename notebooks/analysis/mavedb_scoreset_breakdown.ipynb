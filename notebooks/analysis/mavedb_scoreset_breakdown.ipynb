{
 "cells": [
  {
   "cell_type": "markdown",
   "id": "72dcdd45",
   "metadata": {},
   "source": [
    "# MaveDB Score Set Breakdown\n",
    "This notebook computes the summary statistics used to generate the sankey plot in figure 2a"
   ]
  },
  {
   "cell_type": "markdown",
   "id": "8adaf0bc",
   "metadata": {},
   "source": [
    "## Load Relevant Libraries\n",
    "Run the cell below to load the libraries that are used in this analysis"
   ]
  },
  {
   "cell_type": "code",
   "execution_count": 1,
   "id": "6ec4091d",
   "metadata": {},
   "outputs": [],
   "source": [
    "from os import environ\n",
    "\n",
    "import pandas as pd\n",
    "\n",
    "from dcd_mapping.lookup import _normalize_gene\n",
    "\n",
    "environ[\"GENE_NORM_DB_URL\"] = \"postgresql://postgres@localhost:5432/gene_normalizer\""
   ]
  },
  {
   "cell_type": "markdown",
   "id": "5bb87a98",
   "metadata": {},
   "source": [
    "## Load Metadata \n",
    "Run the cell below to load metadata information for the examined MaveDB score sets."
   ]
  },
  {
   "cell_type": "code",
   "execution_count": 2,
   "id": "6d6db2d5",
   "metadata": {},
   "outputs": [
    {
     "data": {
      "text/html": [
       "<div>\n",
       "<style scoped>\n",
       "    .dataframe tbody tr th:only-of-type {\n",
       "        vertical-align: middle;\n",
       "    }\n",
       "\n",
       "    .dataframe tbody tr th {\n",
       "        vertical-align: top;\n",
       "    }\n",
       "\n",
       "    .dataframe thead th {\n",
       "        text-align: right;\n",
       "    }\n",
       "</style>\n",
       "<table border=\"1\" class=\"dataframe\">\n",
       "  <thead>\n",
       "    <tr style=\"text-align: right;\">\n",
       "      <th></th>\n",
       "      <th>urn</th>\n",
       "      <th>target_sequence</th>\n",
       "      <th>target_sequence_type</th>\n",
       "      <th>target</th>\n",
       "      <th>target_type</th>\n",
       "      <th>uniprot_id</th>\n",
       "      <th>organism</th>\n",
       "    </tr>\n",
       "  </thead>\n",
       "  <tbody>\n",
       "    <tr>\n",
       "      <th>0</th>\n",
       "      <td>urn:mavedb:00000001-a-1</td>\n",
       "      <td>ATGTCGGGGATCGCCCTCAGCAGACTCGCCCAGGAGAGGAAAGCAT...</td>\n",
       "      <td>dna</td>\n",
       "      <td>UBE2I</td>\n",
       "      <td>Protein coding</td>\n",
       "      <td>P63279</td>\n",
       "      <td>Homo sapiens</td>\n",
       "    </tr>\n",
       "    <tr>\n",
       "      <th>1</th>\n",
       "      <td>urn:mavedb:00000001-a-2</td>\n",
       "      <td>ATGTCGGGGATCGCCCTCAGCAGACTCGCCCAGGAGAGGAAAGCAT...</td>\n",
       "      <td>dna</td>\n",
       "      <td>UBE2I</td>\n",
       "      <td>Protein coding</td>\n",
       "      <td>P63279</td>\n",
       "      <td>Homo sapiens</td>\n",
       "    </tr>\n",
       "    <tr>\n",
       "      <th>2</th>\n",
       "      <td>urn:mavedb:00000001-a-3</td>\n",
       "      <td>ATGTCGGGGATCGCCCTCAGCAGACTCGCCCAGGAGAGGAAAGCAT...</td>\n",
       "      <td>dna</td>\n",
       "      <td>UBE2I</td>\n",
       "      <td>Protein coding</td>\n",
       "      <td>P63279</td>\n",
       "      <td>Homo sapiens</td>\n",
       "    </tr>\n",
       "    <tr>\n",
       "      <th>3</th>\n",
       "      <td>urn:mavedb:00000001-a-4</td>\n",
       "      <td>ATGTCGGGGATCGCCCTCAGCAGACTCGCCCAGGAGAGGAAAGCAT...</td>\n",
       "      <td>dna</td>\n",
       "      <td>UBE2I</td>\n",
       "      <td>Protein coding</td>\n",
       "      <td>P63279</td>\n",
       "      <td>Homo sapiens</td>\n",
       "    </tr>\n",
       "    <tr>\n",
       "      <th>4</th>\n",
       "      <td>urn:mavedb:00000001-b-1</td>\n",
       "      <td>ATGTCTGACCAGGAGGCAAAACCTTCAACTGAGGACTTGGGGGATA...</td>\n",
       "      <td>dna</td>\n",
       "      <td>SUMO1</td>\n",
       "      <td>Protein coding</td>\n",
       "      <td>P63165</td>\n",
       "      <td>Homo sapiens</td>\n",
       "    </tr>\n",
       "  </tbody>\n",
       "</table>\n",
       "</div>"
      ],
      "text/plain": [
       "                       urn                                    target_sequence  \\\n",
       "0  urn:mavedb:00000001-a-1  ATGTCGGGGATCGCCCTCAGCAGACTCGCCCAGGAGAGGAAAGCAT...   \n",
       "1  urn:mavedb:00000001-a-2  ATGTCGGGGATCGCCCTCAGCAGACTCGCCCAGGAGAGGAAAGCAT...   \n",
       "2  urn:mavedb:00000001-a-3  ATGTCGGGGATCGCCCTCAGCAGACTCGCCCAGGAGAGGAAAGCAT...   \n",
       "3  urn:mavedb:00000001-a-4  ATGTCGGGGATCGCCCTCAGCAGACTCGCCCAGGAGAGGAAAGCAT...   \n",
       "4  urn:mavedb:00000001-b-1  ATGTCTGACCAGGAGGCAAAACCTTCAACTGAGGACTTGGGGGATA...   \n",
       "\n",
       "  target_sequence_type target     target_type uniprot_id      organism  \n",
       "0                  dna  UBE2I  Protein coding     P63279  Homo sapiens  \n",
       "1                  dna  UBE2I  Protein coding     P63279  Homo sapiens  \n",
       "2                  dna  UBE2I  Protein coding     P63279  Homo sapiens  \n",
       "3                  dna  UBE2I  Protein coding     P63279  Homo sapiens  \n",
       "4                  dna  SUMO1  Protein coding     P63165  Homo sapiens  "
      ]
     },
     "execution_count": 2,
     "metadata": {},
     "output_type": "execute_result"
    }
   ],
   "source": [
    "mave_dat = pd.read_csv(\"analysis_files/mave_metadata_20241114.csv\", index_col=0)\n",
    "mave_dat.head()"
   ]
  },
  {
   "cell_type": "markdown",
   "id": "c43c5db0",
   "metadata": {},
   "source": [
    "### Compute the Number of Score Sets with DNA Target Sequences"
   ]
  },
  {
   "cell_type": "code",
   "execution_count": 3,
   "id": "fe764f5e",
   "metadata": {},
   "outputs": [
    {
     "data": {
      "text/plain": [
       "'The number of score sets with DNA target sequences is: 482'"
      ]
     },
     "execution_count": 3,
     "metadata": {},
     "output_type": "execute_result"
    }
   ],
   "source": [
    "dna_ts = mave_dat[mave_dat[\"target_sequence_type\"] == \"dna\"]\n",
    "f\"The number of score sets with DNA target sequences is: {len(dna_ts.index)}\""
   ]
  },
  {
   "cell_type": "markdown",
   "id": "e97224ec",
   "metadata": {},
   "source": [
    "### Compute the Number of Score Sets with Protein Target Sequences"
   ]
  },
  {
   "cell_type": "code",
   "execution_count": 4,
   "id": "ed5a617f",
   "metadata": {},
   "outputs": [
    {
     "data": {
      "text/plain": [
       "'The number of score sets with protein target sequences is: 582'"
      ]
     },
     "execution_count": 4,
     "metadata": {},
     "output_type": "execute_result"
    }
   ],
   "source": [
    "protein_ts = mave_dat[mave_dat[\"target_sequence_type\"] == \"protein\"]\n",
    "f\"The number of score sets with protein target sequences is: {len(protein_ts.index)}\""
   ]
  },
  {
   "cell_type": "markdown",
   "id": "3ca28afa",
   "metadata": {},
   "source": [
    "### Compute the Number of Protein Coding Score Sets"
   ]
  },
  {
   "cell_type": "code",
   "execution_count": 5,
   "id": "b7108a34",
   "metadata": {},
   "outputs": [
    {
     "data": {
      "text/plain": [
       "'The number of protein coding score sets: 1023'"
      ]
     },
     "execution_count": 5,
     "metadata": {},
     "output_type": "execute_result"
    }
   ],
   "source": [
    "coding_ss = mave_dat.loc[mave_dat[\"target_type\"] == \"Protein coding\"]\n",
    "f\"The number of protein coding score sets: {len(coding_ss.index)}\""
   ]
  },
  {
   "cell_type": "markdown",
   "id": "b14da2c8",
   "metadata": {},
   "source": [
    "### Compute the Number of Regulatory/Other Noncoding Score Sets"
   ]
  },
  {
   "cell_type": "code",
   "execution_count": 6,
   "id": "82659bbd",
   "metadata": {},
   "outputs": [
    {
     "data": {
      "text/plain": [
       "'The number of regulatory/other noncoding score sets: 41'"
      ]
     },
     "execution_count": 6,
     "metadata": {},
     "output_type": "execute_result"
    }
   ],
   "source": [
    "noncoding_ss = mave_dat.loc[mave_dat[\"target_type\"] != \"Protein coding\"]\n",
    "f\"The number of regulatory/other noncoding score sets: {len(noncoding_ss.index)}\""
   ]
  },
  {
   "cell_type": "markdown",
   "id": "c973c6f6",
   "metadata": {},
   "source": [
    "### Compute the Number of Score Sets with UniProt IDs"
   ]
  },
  {
   "cell_type": "code",
   "execution_count": 7,
   "id": "f1d53a77",
   "metadata": {},
   "outputs": [
    {
     "data": {
      "text/plain": [
       "'897 score sets have UniProt IDs'"
      ]
     },
     "execution_count": 7,
     "metadata": {},
     "output_type": "execute_result"
    }
   ],
   "source": [
    "f\"{len(coding_ss) - len(coding_ss[coding_ss['uniprot_id'].isnull()].index)} score sets have UniProt IDs\""
   ]
  },
  {
   "cell_type": "markdown",
   "id": "bd3875ad",
   "metadata": {},
   "source": [
    "### Compute the Number of Score Sets with Protein Target Sequences"
   ]
  },
  {
   "cell_type": "code",
   "execution_count": 8,
   "id": "5eeeaca3",
   "metadata": {},
   "outputs": [
    {
     "data": {
      "text/plain": [
       "'The number of score sets with protein target sequences is: 582'"
      ]
     },
     "execution_count": 8,
     "metadata": {},
     "output_type": "execute_result"
    }
   ],
   "source": [
    "f\"The number of score sets with protein target sequences is: {len(coding_ss[coding_ss['target_sequence_type'] == 'protein'].index)}\""
   ]
  },
  {
   "cell_type": "markdown",
   "id": "02634f5f",
   "metadata": {},
   "source": [
    "### Compute the Number of Coding Score Sets with DNA Target Sequences"
   ]
  },
  {
   "cell_type": "code",
   "execution_count": 9,
   "id": "7c51d97b",
   "metadata": {},
   "outputs": [
    {
     "data": {
      "text/plain": [
       "'The number of coding score sets with DNA target sequences is: 441'"
      ]
     },
     "execution_count": 9,
     "metadata": {},
     "output_type": "execute_result"
    }
   ],
   "source": [
    "f\"The number of coding score sets with DNA target sequences is: {len(coding_ss[coding_ss['target_sequence_type'] == 'dna'].index)}\""
   ]
  },
  {
   "cell_type": "markdown",
   "id": "64abdb6e",
   "metadata": {},
   "source": [
    "### Compute the Number of Regulatory/Other Noncoding Score Sets with DNA Target Sequences"
   ]
  },
  {
   "cell_type": "code",
   "execution_count": 10,
   "id": "48e9db0f",
   "metadata": {},
   "outputs": [
    {
     "data": {
      "text/plain": [
       "'The number of regulatory/other noncoding score sets with DNA target sequences is: 41'"
      ]
     },
     "execution_count": 10,
     "metadata": {},
     "output_type": "execute_result"
    }
   ],
   "source": [
    "f\"The number of regulatory/other noncoding score sets with DNA target sequences is: {len(noncoding_ss[noncoding_ss['target_sequence_type'] == 'dna'].index)}\""
   ]
  },
  {
   "cell_type": "markdown",
   "id": "3d70af03",
   "metadata": {},
   "source": [
    "### Compute the Average Length of Protein Target Sequences"
   ]
  },
  {
   "cell_type": "code",
   "execution_count": 11,
   "id": "efa5b7e3",
   "metadata": {},
   "outputs": [
    {
     "data": {
      "text/plain": [
       "'The average length of protein target sequences is: 105.39003436426117 amino acids'"
      ]
     },
     "execution_count": 11,
     "metadata": {},
     "output_type": "execute_result"
    }
   ],
   "source": [
    "protein_filter = coding_ss.loc[coding_ss[\"target_sequence_type\"] == \"protein\"]\n",
    "seqlist = list(protein_filter[\"target_sequence\"])\n",
    "f\"The average length of protein target sequences is: {sum(map(len, seqlist)) / len(seqlist)} amino acids\""
   ]
  },
  {
   "cell_type": "markdown",
   "id": "d9451dd3",
   "metadata": {},
   "source": [
    "### Compute the Average Length of Protein Coding DNA Target Sequences"
   ]
  },
  {
   "cell_type": "code",
   "execution_count": 12,
   "id": "94061952",
   "metadata": {},
   "outputs": [
    {
     "data": {
      "text/plain": [
       "'The average length of protein coding DNA target sequences is: 635.2448979591836 nucleotides'"
      ]
     },
     "execution_count": 12,
     "metadata": {},
     "output_type": "execute_result"
    }
   ],
   "source": [
    "dna_filter = coding_ss.loc[coding_ss[\"target_sequence_type\"] == \"dna\"]\n",
    "seqlist = list(dna_filter[\"target_sequence\"])\n",
    "f\"The average length of protein coding DNA target sequences is: {sum(map(len, seqlist)) / len(seqlist)} nucleotides\""
   ]
  },
  {
   "cell_type": "markdown",
   "id": "5bbcaa90",
   "metadata": {},
   "source": [
    "### Compute the Average Length of Regulatory/Other Noncoding DNA Target Sequences"
   ]
  },
  {
   "cell_type": "code",
   "execution_count": 13,
   "id": "be20cb3b",
   "metadata": {},
   "outputs": [
    {
     "data": {
      "text/plain": [
       "'The average length of regulatory/other noncoding DNA target sequences is: 353.2682926829268 nucleotides'"
      ]
     },
     "execution_count": 13,
     "metadata": {},
     "output_type": "execute_result"
    }
   ],
   "source": [
    "dna_filter = noncoding_ss.loc[noncoding_ss[\"target_sequence_type\"] == \"dna\"]\n",
    "seqlist = list(dna_filter[\"target_sequence\"])\n",
    "f\"The average length of regulatory/other noncoding DNA target sequences is: {sum(map(len, seqlist)) / len(seqlist)} nucleotides\""
   ]
  },
  {
   "cell_type": "markdown",
   "id": "cc55f54c",
   "metadata": {},
   "source": [
    "### Compute the Number of Protein Coding Score Sets with Gene Symbol/Aliases"
   ]
  },
  {
   "cell_type": "code",
   "execution_count": 14,
   "id": "86195c62",
   "metadata": {},
   "outputs": [
    {
     "data": {
      "text/plain": [
       "'The number of protein coding score sets with gene symbols/aliases is: 348'"
      ]
     },
     "execution_count": 14,
     "metadata": {},
     "output_type": "execute_result"
    }
   ],
   "source": [
    "td = list(coding_ss[\"target\"])\n",
    "td = [x for x in td if \" \" not in x or x == \"Glycophorin A\"]\n",
    "f\"The number of protein coding score sets with gene symbols/aliases is: {len(td)}\""
   ]
  },
  {
   "cell_type": "markdown",
   "id": "25f0d642",
   "metadata": {},
   "source": [
    "### Compute the Number of Protein Coding Score Sets with Descriptive Targets"
   ]
  },
  {
   "cell_type": "code",
   "execution_count": 15,
   "id": "101ea727",
   "metadata": {},
   "outputs": [
    {
     "data": {
      "text/plain": [
       "'The number of protein coding score sets with descriptive targets is: 675'"
      ]
     },
     "execution_count": 15,
     "metadata": {},
     "output_type": "execute_result"
    }
   ],
   "source": [
    "td = list(coding_ss[\"target\"])\n",
    "td = [x for x in td if \" \" in x and x != \"Glycophorin A\"]\n",
    "f\"The number of protein coding score sets with descriptive targets is: {len(td)}\""
   ]
  },
  {
   "cell_type": "markdown",
   "id": "d64e8e73",
   "metadata": {},
   "source": [
    "### Compute the Number of Regulator/Other Noncoding Score Sets with Descriptive Targets"
   ]
  },
  {
   "cell_type": "code",
   "execution_count": 16,
   "id": "afdf49aa",
   "metadata": {},
   "outputs": [
    {
     "data": {
      "text/plain": [
       "'The number of regulatory/other noncoding score sets with descriptive targets is: 41'"
      ]
     },
     "execution_count": 16,
     "metadata": {},
     "output_type": "execute_result"
    }
   ],
   "source": [
    "td = list(noncoding_ss[\"target\"])\n",
    "td = [x for x in td if \" \" in x]\n",
    "f\"The number of regulatory/other noncoding score sets with descriptive targets is: {len(td)}\""
   ]
  },
  {
   "cell_type": "markdown",
   "id": "32ffbcc3",
   "metadata": {},
   "source": [
    "### Compute the Number of Unique Genes that are Mapped Across Score Sets"
   ]
  },
  {
   "cell_type": "code",
   "execution_count": 17,
   "id": "3b3dc007",
   "metadata": {},
   "outputs": [
    {
     "data": {
      "text/plain": [
       "'The number of unique gene symbols across examined score set targets is: 526'"
      ]
     },
     "execution_count": 17,
     "metadata": {},
     "output_type": "execute_result"
    }
   ],
   "source": [
    "targets = list(mave_dat[\"target\"])\n",
    "unique_genes = []\n",
    "for gene in targets:\n",
    "    comp = gene.split()\n",
    "    if \"Minigene\" in comp:\n",
    "        unique_genes.append(\"WT1\")\n",
    "    elif \"hYAP65\" in comp:\n",
    "        unique_genes.append(\"YAP1\")\n",
    "    else:\n",
    "        for ele in comp:\n",
    "            is_normalized = False\n",
    "            if _normalize_gene(ele):\n",
    "                unique_genes.append(_normalize_gene(ele).label)\n",
    "                is_normalized = True\n",
    "                break\n",
    "        if not is_normalized:\n",
    "            unique_genes.append(comp[0])\n",
    "f\"The number of unique gene symbols across examined score set targets is: {len(set(unique_genes))}\""
   ]
  },
  {
   "cell_type": "code",
   "execution_count": 18,
   "id": "4ef61ec4",
   "metadata": {},
   "outputs": [],
   "source": [
    "#set(unique_genes)"
   ]
  },
  {
   "cell_type": "markdown",
   "id": "042e2432",
   "metadata": {},
   "source": [
    "### Generate Summary Statistics Table"
   ]
  },
  {
   "cell_type": "code",
   "execution_count": 19,
   "id": "0b188ac0",
   "metadata": {},
   "outputs": [
    {
     "data": {
      "text/html": [
       "<div>\n",
       "<style scoped>\n",
       "    .dataframe tbody tr th:only-of-type {\n",
       "        vertical-align: middle;\n",
       "    }\n",
       "\n",
       "    .dataframe tbody tr th {\n",
       "        vertical-align: top;\n",
       "    }\n",
       "\n",
       "    .dataframe thead th {\n",
       "        text-align: right;\n",
       "    }\n",
       "</style>\n",
       "<table border=\"1\" class=\"dataframe\">\n",
       "  <thead>\n",
       "    <tr style=\"text-align: right;\">\n",
       "      <th></th>\n",
       "      <th>Value</th>\n",
       "    </tr>\n",
       "  </thead>\n",
       "  <tbody>\n",
       "    <tr>\n",
       "      <th>Protein Coding Score Sets</th>\n",
       "      <td>1023.00</td>\n",
       "    </tr>\n",
       "    <tr>\n",
       "      <th>Regulatory/Other Noncoding Score Sets</th>\n",
       "      <td>41.00</td>\n",
       "    </tr>\n",
       "    <tr>\n",
       "      <th>Score Sets with DNA Target Sequences</th>\n",
       "      <td>482.00</td>\n",
       "    </tr>\n",
       "    <tr>\n",
       "      <th>Score Sets with Protein Target Sequences</th>\n",
       "      <td>582.00</td>\n",
       "    </tr>\n",
       "    <tr>\n",
       "      <th>Average Length of Protein Target Sequences</th>\n",
       "      <td>105.39</td>\n",
       "    </tr>\n",
       "    <tr>\n",
       "      <th>Average Length of Protein Coding DNA Sequences</th>\n",
       "      <td>635.24</td>\n",
       "    </tr>\n",
       "    <tr>\n",
       "      <th>Average Length of Regulatory/Other DNA Sequences</th>\n",
       "      <td>353.27</td>\n",
       "    </tr>\n",
       "    <tr>\n",
       "      <th>Protein Coding Score Sets with Gene Symbols/Aliases</th>\n",
       "      <td>348.00</td>\n",
       "    </tr>\n",
       "    <tr>\n",
       "      <th>Protein Coding Score Sets with Descriptive Targets</th>\n",
       "      <td>675.00</td>\n",
       "    </tr>\n",
       "    <tr>\n",
       "      <th>Regulatory/Other Noncoding Score Sets with Descriptive Targets</th>\n",
       "      <td>41.00</td>\n",
       "    </tr>\n",
       "    <tr>\n",
       "      <th>Unique Gene Symbols Across Targets</th>\n",
       "      <td>526.00</td>\n",
       "    </tr>\n",
       "  </tbody>\n",
       "</table>\n",
       "</div>"
      ],
      "text/plain": [
       "                                                      Value\n",
       "Protein Coding Score Sets                           1023.00\n",
       "Regulatory/Other Noncoding Score Sets                 41.00\n",
       "Score Sets with DNA Target Sequences                 482.00\n",
       "Score Sets with Protein Target Sequences             582.00\n",
       "Average Length of Protein Target Sequences           105.39\n",
       "Average Length of Protein Coding DNA Sequences       635.24\n",
       "Average Length of Regulatory/Other DNA Sequences     353.27\n",
       "Protein Coding Score Sets with Gene Symbols/Ali...   348.00\n",
       "Protein Coding Score Sets with Descriptive Targets   675.00\n",
       "Regulatory/Other Noncoding Score Sets with Desc...    41.00\n",
       "Unique Gene Symbols Across Targets                   526.00"
      ]
     },
     "execution_count": 19,
     "metadata": {},
     "output_type": "execute_result"
    }
   ],
   "source": [
    "params = {\"Protein Coding Score Sets\": 1023,\n",
    "          \"Regulatory/Other Noncoding Score Sets\": 41,\n",
    "          \"Score Sets with DNA Target Sequences\": 482,\n",
    "          \"Score Sets with Protein Target Sequences\": 582,\n",
    "          \"Average Length of Protein Target Sequences\": 105.39,\n",
    "          \"Average Length of Protein Coding DNA Sequences\": 635.24,\n",
    "          \"Average Length of Regulatory/Other DNA Sequences\": 353.27,\n",
    "          \"Protein Coding Score Sets with Gene Symbols/Aliases\": 348,\n",
    "          \"Protein Coding Score Sets with Descriptive Targets\": 675,\n",
    "          \"Regulatory/Other Noncoding Score Sets with Descriptive Targets\": 41,\n",
    "          \"Unique Gene Symbols Across Targets\": 526}\n",
    "pd.DataFrame.from_dict(params, orient=\"index\",columns=[\"Value\"])"
   ]
  }
 ],
 "metadata": {
  "kernelspec": {
   "display_name": "venv",
   "language": "python",
   "name": "python3"
  },
  "language_info": {
   "codemirror_mode": {
    "name": "ipython",
    "version": 3
   },
   "file_extension": ".py",
   "mimetype": "text/x-python",
   "name": "python",
   "nbconvert_exporter": "python",
   "pygments_lexer": "ipython3",
   "version": "3.11.11"
  }
 },
 "nbformat": 4,
 "nbformat_minor": 5
}
