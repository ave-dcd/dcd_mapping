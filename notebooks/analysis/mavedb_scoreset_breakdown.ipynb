{
 "cells": [
  {
   "cell_type": "markdown",
   "id": "72dcdd45",
   "metadata": {},
   "source": [
    "# MaveDB Score Set Breakdown\n",
    "This notebook computes the summary statistics used to generate the sankey plot in figure 2a"
   ]
  },
  {
   "cell_type": "markdown",
   "id": "8adaf0bc",
   "metadata": {},
   "source": [
    "## Load Relevant Libraries\n",
    "Run the cell below to load the libraries that are used in this analysis"
   ]
  },
  {
   "cell_type": "code",
   "execution_count": 1,
   "id": "6ec4091d",
   "metadata": {},
   "outputs": [],
   "source": [
    "from os import environ\n",
    "\n",
    "import pandas as pd\n",
    "\n",
    "from dcd_mapping.lookup import _normalize_gene\n",
    "\n",
    "environ[\"GENE_NORM_DB_URL\"] = \"postgresql://postgres@localhost:5432/gene_normalizer\""
   ]
  },
  {
   "cell_type": "markdown",
   "id": "5bb87a98",
   "metadata": {},
   "source": [
    "## Load Metadata \n",
    "Run the cell below to load metadata information for the examined MaveDB score sets."
   ]
  },
  {
   "cell_type": "code",
   "execution_count": 2,
   "id": "6d6db2d5",
   "metadata": {},
   "outputs": [
    {
     "data": {
      "text/html": [
       "<div>\n",
       "<style scoped>\n",
       "    .dataframe tbody tr th:only-of-type {\n",
       "        vertical-align: middle;\n",
       "    }\n",
       "\n",
       "    .dataframe tbody tr th {\n",
       "        vertical-align: top;\n",
       "    }\n",
       "\n",
       "    .dataframe thead th {\n",
       "        text-align: right;\n",
       "    }\n",
       "</style>\n",
       "<table border=\"1\" class=\"dataframe\">\n",
       "  <thead>\n",
       "    <tr style=\"text-align: right;\">\n",
       "      <th></th>\n",
       "      <th>urn</th>\n",
       "      <th>target_sequence</th>\n",
       "      <th>target_sequence_type</th>\n",
       "      <th>target</th>\n",
       "      <th>target_type</th>\n",
       "      <th>uniprot_id</th>\n",
       "      <th>organism</th>\n",
       "    </tr>\n",
       "  </thead>\n",
       "  <tbody>\n",
       "    <tr>\n",
       "      <th>0</th>\n",
       "      <td>urn:mavedb:00000001-a-1</td>\n",
       "      <td>ATGTCGGGGATCGCCCTCAGCAGACTCGCCCAGGAGAGGAAAGCAT...</td>\n",
       "      <td>dna</td>\n",
       "      <td>UBE2I</td>\n",
       "      <td>Protein coding</td>\n",
       "      <td>P63279</td>\n",
       "      <td>Homo sapiens</td>\n",
       "    </tr>\n",
       "    <tr>\n",
       "      <th>1</th>\n",
       "      <td>urn:mavedb:00000001-a-2</td>\n",
       "      <td>ATGTCGGGGATCGCCCTCAGCAGACTCGCCCAGGAGAGGAAAGCAT...</td>\n",
       "      <td>dna</td>\n",
       "      <td>UBE2I</td>\n",
       "      <td>Protein coding</td>\n",
       "      <td>P63279</td>\n",
       "      <td>Homo sapiens</td>\n",
       "    </tr>\n",
       "    <tr>\n",
       "      <th>2</th>\n",
       "      <td>urn:mavedb:00000001-a-3</td>\n",
       "      <td>ATGTCGGGGATCGCCCTCAGCAGACTCGCCCAGGAGAGGAAAGCAT...</td>\n",
       "      <td>dna</td>\n",
       "      <td>UBE2I</td>\n",
       "      <td>Protein coding</td>\n",
       "      <td>P63279</td>\n",
       "      <td>Homo sapiens</td>\n",
       "    </tr>\n",
       "    <tr>\n",
       "      <th>3</th>\n",
       "      <td>urn:mavedb:00000001-a-4</td>\n",
       "      <td>ATGTCGGGGATCGCCCTCAGCAGACTCGCCCAGGAGAGGAAAGCAT...</td>\n",
       "      <td>dna</td>\n",
       "      <td>UBE2I</td>\n",
       "      <td>Protein coding</td>\n",
       "      <td>P63279</td>\n",
       "      <td>Homo sapiens</td>\n",
       "    </tr>\n",
       "    <tr>\n",
       "      <th>4</th>\n",
       "      <td>urn:mavedb:00000001-b-1</td>\n",
       "      <td>ATGTCTGACCAGGAGGCAAAACCTTCAACTGAGGACTTGGGGGATA...</td>\n",
       "      <td>dna</td>\n",
       "      <td>SUMO1</td>\n",
       "      <td>Protein coding</td>\n",
       "      <td>P63165</td>\n",
       "      <td>Homo sapiens</td>\n",
       "    </tr>\n",
       "  </tbody>\n",
       "</table>\n",
       "</div>"
      ],
      "text/plain": [
       "                       urn                                    target_sequence  \\\n",
       "0  urn:mavedb:00000001-a-1  ATGTCGGGGATCGCCCTCAGCAGACTCGCCCAGGAGAGGAAAGCAT...   \n",
       "1  urn:mavedb:00000001-a-2  ATGTCGGGGATCGCCCTCAGCAGACTCGCCCAGGAGAGGAAAGCAT...   \n",
       "2  urn:mavedb:00000001-a-3  ATGTCGGGGATCGCCCTCAGCAGACTCGCCCAGGAGAGGAAAGCAT...   \n",
       "3  urn:mavedb:00000001-a-4  ATGTCGGGGATCGCCCTCAGCAGACTCGCCCAGGAGAGGAAAGCAT...   \n",
       "4  urn:mavedb:00000001-b-1  ATGTCTGACCAGGAGGCAAAACCTTCAACTGAGGACTTGGGGGATA...   \n",
       "\n",
       "  target_sequence_type target     target_type uniprot_id      organism  \n",
       "0                  dna  UBE2I  Protein coding     P63279  Homo sapiens  \n",
       "1                  dna  UBE2I  Protein coding     P63279  Homo sapiens  \n",
       "2                  dna  UBE2I  Protein coding     P63279  Homo sapiens  \n",
       "3                  dna  UBE2I  Protein coding     P63279  Homo sapiens  \n",
       "4                  dna  SUMO1  Protein coding     P63165  Homo sapiens  "
      ]
     },
     "execution_count": 2,
     "metadata": {},
     "output_type": "execute_result"
    }
   ],
   "source": [
    "mave_dat = pd.read_csv(\"analysis_files/mave_metadata_20241114.csv\", index_col=0)\n",
    "mave_dat.head()"
   ]
  },
  {
   "cell_type": "markdown",
   "id": "c43c5db0",
   "metadata": {},
   "source": [
    "### Compute the Number of Score Sets with DNA Target Sequences"
   ]
  },
  {
   "cell_type": "code",
   "execution_count": 3,
   "id": "fe764f5e",
   "metadata": {},
   "outputs": [
    {
     "data": {
      "text/plain": [
       "'The number of score sets with DNA target sequences is: 482'"
      ]
     },
     "execution_count": 3,
     "metadata": {},
     "output_type": "execute_result"
    }
   ],
   "source": [
    "dna_ts = mave_dat[mave_dat[\"target_sequence_type\"] == \"dna\"]\n",
    "f\"The number of score sets with DNA target sequences is: {len(dna_ts.index)}\""
   ]
  },
  {
   "cell_type": "markdown",
   "id": "e97224ec",
   "metadata": {},
   "source": [
    "### Compute the Number of Score Sets with Protein Target Sequences"
   ]
  },
  {
   "cell_type": "code",
   "execution_count": 4,
   "id": "ed5a617f",
   "metadata": {},
   "outputs": [
    {
     "data": {
      "text/plain": [
       "'The number of score sets with protein target sequences is: 582'"
      ]
     },
     "execution_count": 4,
     "metadata": {},
     "output_type": "execute_result"
    }
   ],
   "source": [
    "protein_ts = mave_dat[mave_dat[\"target_sequence_type\"] == \"protein\"]\n",
    "f\"The number of score sets with protein target sequences is: {len(protein_ts.index)}\""
   ]
  },
  {
   "cell_type": "markdown",
   "id": "3ca28afa",
   "metadata": {},
   "source": [
    "### Compute the Number of Protein Coding Score Sets"
   ]
  },
  {
   "cell_type": "code",
   "execution_count": 5,
   "id": "b7108a34",
   "metadata": {},
   "outputs": [
    {
     "data": {
      "text/plain": [
       "'The number of protein coding score sets: 1023'"
      ]
     },
     "execution_count": 5,
     "metadata": {},
     "output_type": "execute_result"
    }
   ],
   "source": [
    "coding_ss = mave_dat.loc[mave_dat[\"target_type\"] == \"Protein coding\"]\n",
    "f\"The number of protein coding score sets: {len(coding_ss.index)}\""
   ]
  },
  {
   "cell_type": "markdown",
   "id": "b14da2c8",
   "metadata": {},
   "source": [
    "### Compute the Number of Regulatory/Other Noncoding Score Sets"
   ]
  },
  {
   "cell_type": "code",
   "execution_count": 6,
   "id": "82659bbd",
   "metadata": {},
   "outputs": [
    {
     "data": {
      "text/plain": [
       "'The number of regulatory/other noncoding score sets: 41'"
      ]
     },
     "execution_count": 6,
     "metadata": {},
     "output_type": "execute_result"
    }
   ],
   "source": [
    "noncoding_ss = mave_dat.loc[mave_dat[\"target_type\"] != \"Protein coding\"]\n",
    "f\"The number of regulatory/other noncoding score sets: {len(noncoding_ss.index)}\""
   ]
  },
  {
   "cell_type": "markdown",
   "id": "c973c6f6",
   "metadata": {},
   "source": [
    "### Compute the Number of Score Sets with UniProt IDs"
   ]
  },
  {
   "cell_type": "code",
   "execution_count": 7,
   "id": "f1d53a77",
   "metadata": {},
   "outputs": [
    {
     "data": {
      "text/plain": [
       "'897 score sets have UniProt IDs'"
      ]
     },
     "execution_count": 7,
     "metadata": {},
     "output_type": "execute_result"
    }
   ],
   "source": [
    "f\"{len(coding_ss) - len(coding_ss[coding_ss['uniprot_id'].isnull()].index)} score sets have UniProt IDs\""
   ]
  },
  {
   "cell_type": "markdown",
   "id": "bd3875ad",
   "metadata": {},
   "source": [
    "### Compute the Number of Score Sets with Protein Target Sequences"
   ]
  },
  {
   "cell_type": "code",
   "execution_count": 8,
   "id": "5eeeaca3",
   "metadata": {},
   "outputs": [
    {
     "data": {
      "text/plain": [
       "'The number of score sets with protein target sequences is: 582'"
      ]
     },
     "execution_count": 8,
     "metadata": {},
     "output_type": "execute_result"
    }
   ],
   "source": [
    "f\"The number of score sets with protein target sequences is: {len(coding_ss[coding_ss['target_sequence_type'] == 'protein'].index)}\""
   ]
  },
  {
   "cell_type": "markdown",
   "id": "02634f5f",
   "metadata": {},
   "source": [
    "### Compute the Number of Coding Score Sets with DNA Target Sequences"
   ]
  },
  {
   "cell_type": "code",
   "execution_count": 9,
   "id": "7c51d97b",
   "metadata": {},
   "outputs": [
    {
     "data": {
      "text/plain": [
       "'The number of coding score sets with DNA target sequences is: 441'"
      ]
     },
     "execution_count": 9,
     "metadata": {},
     "output_type": "execute_result"
    }
   ],
   "source": [
    "f\"The number of coding score sets with DNA target sequences is: {len(coding_ss[coding_ss['target_sequence_type'] == 'dna'].index)}\""
   ]
  },
  {
   "cell_type": "markdown",
   "id": "64abdb6e",
   "metadata": {},
   "source": [
    "### Compute the Number of Regulatory/Other Noncoding Score Sets with DNA Target Sequences"
   ]
  },
  {
   "cell_type": "code",
   "execution_count": 10,
   "id": "48e9db0f",
   "metadata": {},
   "outputs": [
    {
     "data": {
      "text/plain": [
       "'The number of regulatory/other noncoding score sets with DNA target sequences is: 41'"
      ]
     },
     "execution_count": 10,
     "metadata": {},
     "output_type": "execute_result"
    }
   ],
   "source": [
    "f\"The number of regulatory/other noncoding score sets with DNA target sequences is: {len(noncoding_ss[noncoding_ss['target_sequence_type'] == 'dna'].index)}\""
   ]
  },
  {
   "cell_type": "markdown",
   "id": "3d70af03",
   "metadata": {},
   "source": [
    "### Compute the Average Length of Protein Target Sequences"
   ]
  },
  {
   "cell_type": "code",
   "execution_count": 11,
   "id": "efa5b7e3",
   "metadata": {},
   "outputs": [
    {
     "data": {
      "text/plain": [
       "'The average length of protein target sequences is: 105.39003436426117 amino acids'"
      ]
     },
     "execution_count": 11,
     "metadata": {},
     "output_type": "execute_result"
    }
   ],
   "source": [
    "protein_filter = coding_ss.loc[coding_ss[\"target_sequence_type\"] == \"protein\"]\n",
    "seqlist = list(protein_filter[\"target_sequence\"])\n",
    "f\"The average length of protein target sequences is: {sum(map(len, seqlist)) / len(seqlist)} amino acids\""
   ]
  },
  {
   "cell_type": "markdown",
   "id": "d9451dd3",
   "metadata": {},
   "source": [
    "### Compute the Average Length of Protein Coding DNA Target Sequences"
   ]
  },
  {
   "cell_type": "code",
   "execution_count": 12,
   "id": "94061952",
   "metadata": {},
   "outputs": [
    {
     "data": {
      "text/plain": [
       "'The average length of protein coding DNA target sequences is: 635.2448979591836 nucleotides'"
      ]
     },
     "execution_count": 12,
     "metadata": {},
     "output_type": "execute_result"
    }
   ],
   "source": [
    "dna_filter = coding_ss.loc[coding_ss[\"target_sequence_type\"] == \"dna\"]\n",
    "seqlist = list(dna_filter[\"target_sequence\"])\n",
    "f\"The average length of protein coding DNA target sequences is: {sum(map(len, seqlist)) / len(seqlist)} nucleotides\""
   ]
  },
  {
   "cell_type": "markdown",
   "id": "5bbcaa90",
   "metadata": {},
   "source": [
    "### Compute the Average Length of Regulatory/Other Noncoding DNA Target Sequences"
   ]
  },
  {
   "cell_type": "code",
   "execution_count": 13,
   "id": "be20cb3b",
   "metadata": {},
   "outputs": [
    {
     "data": {
      "text/plain": [
       "'The average length of regulatory/other noncoding DNA target sequences is: 353.2682926829268 nucleotides'"
      ]
     },
     "execution_count": 13,
     "metadata": {},
     "output_type": "execute_result"
    }
   ],
   "source": [
    "dna_filter = noncoding_ss.loc[noncoding_ss[\"target_sequence_type\"] == \"dna\"]\n",
    "seqlist = list(dna_filter[\"target_sequence\"])\n",
    "f\"The average length of regulatory/other noncoding DNA target sequences is: {sum(map(len, seqlist)) / len(seqlist)} nucleotides\""
   ]
  },
  {
   "cell_type": "markdown",
   "id": "cc55f54c",
   "metadata": {},
   "source": [
    "### Compute the Number of Protein Coding Score Sets with Gene Symbol/Aliases"
   ]
  },
  {
   "cell_type": "code",
   "execution_count": 14,
   "id": "86195c62",
   "metadata": {},
   "outputs": [
    {
     "data": {
      "text/plain": [
       "'The number of protein coding score sets with gene symbols/aliases is: 348'"
      ]
     },
     "execution_count": 14,
     "metadata": {},
     "output_type": "execute_result"
    }
   ],
   "source": [
    "td = list(coding_ss[\"target\"])\n",
    "td = [x for x in td if \" \" not in x or x == \"Glycophorin A\"]\n",
    "f\"The number of protein coding score sets with gene symbols/aliases is: {len(td)}\""
   ]
  },
  {
   "cell_type": "markdown",
   "id": "25f0d642",
   "metadata": {},
   "source": [
    "### Compute the Number of Protein Coding Score Sets with Descriptive Targets"
   ]
  },
  {
   "cell_type": "code",
   "execution_count": 15,
   "id": "101ea727",
   "metadata": {},
   "outputs": [
    {
     "data": {
      "text/plain": [
       "'The number of protein coding score sets with descriptive targets is: 675'"
      ]
     },
     "execution_count": 15,
     "metadata": {},
     "output_type": "execute_result"
    }
   ],
   "source": [
    "td = list(coding_ss[\"target\"])\n",
    "td = [x for x in td if \" \" in x and x != \"Glycophorin A\"]\n",
    "f\"The number of protein coding score sets with descriptive targets is: {len(td)}\""
   ]
  },
  {
   "cell_type": "markdown",
   "id": "d64e8e73",
   "metadata": {},
   "source": [
    "### Compute the Number of Regulator/Other Noncoding Score Sets with Descriptive Targets"
   ]
  },
  {
   "cell_type": "code",
   "execution_count": 16,
   "id": "afdf49aa",
   "metadata": {},
   "outputs": [
    {
     "data": {
      "text/plain": [
       "'The number of regulatory/other noncoding score sets with descriptive targets is: 41'"
      ]
     },
     "execution_count": 16,
     "metadata": {},
     "output_type": "execute_result"
    }
   ],
   "source": [
    "td = list(noncoding_ss[\"target\"])\n",
    "td = [x for x in td if \" \" in x]\n",
    "f\"The number of regulatory/other noncoding score sets with descriptive targets is: {len(td)}\""
   ]
  },
  {
   "cell_type": "markdown",
   "id": "32ffbcc3",
   "metadata": {},
   "source": [
    "### Compute the Number of Unique Genes that are Mapped Across Score Sets"
   ]
  },
  {
   "cell_type": "code",
   "execution_count": 17,
   "id": "3b3dc007",
   "metadata": {},
   "outputs": [
    {
     "data": {
      "text/plain": [
       "'The number of unique gene symbols across examined score set targets is: 526'"
      ]
     },
     "execution_count": 17,
     "metadata": {},
     "output_type": "execute_result"
    }
   ],
   "source": [
    "targets = list(mave_dat[\"target\"])\n",
    "unique_genes = []\n",
    "for gene in targets:\n",
    "    comp = gene.split()\n",
    "    if \"Minigene\" in comp:\n",
    "        unique_genes.append(\"WT1\")\n",
    "    elif \"hYAP65\" in comp:\n",
    "        unique_genes.append(\"YAP1\")\n",
    "    else:\n",
    "        for ele in comp:\n",
    "            is_normalized = False\n",
    "            if _normalize_gene(ele):\n",
    "                unique_genes.append(_normalize_gene(ele).label)\n",
    "                is_normalized = True\n",
    "                break\n",
    "        if not is_normalized:\n",
    "            unique_genes.append(comp[0])\n",
    "f\"The number of unique gene symbols across examined score set targets is: {len(set(unique_genes))}\""
   ]
  },
  {
   "cell_type": "code",
   "execution_count": 18,
   "id": "4ef61ec4",
   "metadata": {},
   "outputs": [
    {
     "data": {
      "text/plain": [
       "{'ABL1',\n",
       " 'ABLIM2',\n",
       " 'ABLIM3',\n",
       " 'ACE2',\n",
       " 'ADAR',\n",
       " 'ADARB1',\n",
       " 'ADNP',\n",
       " 'AHI1',\n",
       " 'AICDA',\n",
       " 'ALDOB',\n",
       " 'ALX1',\n",
       " 'ALX3',\n",
       " 'ALX4',\n",
       " 'AMFR',\n",
       " 'ANK1',\n",
       " 'ANK2',\n",
       " 'ANK3',\n",
       " 'ANKS1B',\n",
       " 'ANKS6',\n",
       " 'APBB3',\n",
       " 'APP',\n",
       " 'AR',\n",
       " 'ARAF',\n",
       " 'ARHGAP35',\n",
       " 'ARHGEF28',\n",
       " 'ARID2',\n",
       " 'ARK2C',\n",
       " 'ARX',\n",
       " 'ASB14',\n",
       " 'ASPA',\n",
       " 'ASPM',\n",
       " 'ASZ1',\n",
       " 'ATP7B',\n",
       " 'ATXN7',\n",
       " 'AVIL',\n",
       " 'Aβ42',\n",
       " 'BAG3',\n",
       " 'BAG5',\n",
       " 'BAZ2B',\n",
       " 'BCL11A',\n",
       " 'BLK',\n",
       " 'BPTF',\n",
       " 'BRAF',\n",
       " 'BRCA1',\n",
       " 'BRD4',\n",
       " 'BTK',\n",
       " 'CABP2',\n",
       " 'CALM1',\n",
       " 'CALML4',\n",
       " 'CAPN15',\n",
       " 'CASK',\n",
       " 'CBL',\n",
       " 'CBS',\n",
       " 'CBX4',\n",
       " 'CBX5',\n",
       " 'CBX7',\n",
       " 'CCAR1',\n",
       " 'CCNF',\n",
       " 'CCR5',\n",
       " 'CD2AP',\n",
       " 'CD86',\n",
       " 'CHD3',\n",
       " 'CHD4',\n",
       " 'CHD5',\n",
       " 'CHD7',\n",
       " 'CHEK2',\n",
       " 'CIDEB',\n",
       " 'CKS1B',\n",
       " 'CNKSR2',\n",
       " 'COMT_ROI1_2',\n",
       " 'CPA2',\n",
       " 'CPEB2',\n",
       " 'CRX',\n",
       " 'CRYBA1',\n",
       " 'CRYBA4',\n",
       " 'CRYBB1',\n",
       " 'CRYBB2',\n",
       " 'CRYBG2',\n",
       " 'CRYGA',\n",
       " 'CRYGB',\n",
       " 'CRYGC',\n",
       " 'CRYGD',\n",
       " 'CRYGS',\n",
       " 'CSDE1',\n",
       " 'CUL9',\n",
       " 'CUX1',\n",
       " 'CUX2',\n",
       " 'CXCR4',\n",
       " 'CYP2C19',\n",
       " 'CYP2C9',\n",
       " 'DBT',\n",
       " 'DDHD2',\n",
       " 'DDX3X',\n",
       " 'DIDO1',\n",
       " 'DLG3',\n",
       " 'DLG4',\n",
       " 'DMBX1',\n",
       " 'DMTF1',\n",
       " 'DNAJA1',\n",
       " 'DNAJA3',\n",
       " 'DNAJB1',\n",
       " 'DNAJB11',\n",
       " 'DNAJB2',\n",
       " 'DNAJB5',\n",
       " 'DNAJB7',\n",
       " 'DNAJC1',\n",
       " 'DNAJC2',\n",
       " 'DNAJC21',\n",
       " 'DNAJC5',\n",
       " 'DNAJC7',\n",
       " 'DNMBP',\n",
       " 'DPH3',\n",
       " 'DTNA',\n",
       " 'DUX4',\n",
       " 'DVL1',\n",
       " 'DVL3',\n",
       " 'ECR11',\n",
       " 'ELF3',\n",
       " 'ELF5',\n",
       " 'ELOF1',\n",
       " 'EP300',\n",
       " 'EPHB2',\n",
       " 'EPRS1',\n",
       " 'EPS8',\n",
       " 'ERBB2',\n",
       " 'ERBIN',\n",
       " 'ERG',\n",
       " 'ERI1',\n",
       " 'ESRRB',\n",
       " 'ETS1',\n",
       " 'F9',\n",
       " 'FADD',\n",
       " 'FANCL',\n",
       " 'FBXO11',\n",
       " 'FBXO22',\n",
       " 'FCHSD1',\n",
       " 'FEZF1',\n",
       " 'FHL1',\n",
       " 'FHL2',\n",
       " 'FKBP3',\n",
       " 'FLI1',\n",
       " 'FLNB',\n",
       " 'FMR1',\n",
       " 'FNBP4',\n",
       " 'FOXE1',\n",
       " 'FRMPD4',\n",
       " 'FUBP1',\n",
       " 'FUBP3',\n",
       " 'FYN',\n",
       " 'GABBR1',\n",
       " 'GABPA',\n",
       " 'GAS2L1',\n",
       " 'GAS7',\n",
       " 'GATAD2B',\n",
       " 'GCK',\n",
       " 'GDI1',\n",
       " 'GFI1',\n",
       " 'GFI1B',\n",
       " 'GLI1',\n",
       " 'GLI2',\n",
       " 'GLI3',\n",
       " 'GLIS3',\n",
       " 'GP1BB',\n",
       " 'GRB2',\n",
       " 'GRIP1',\n",
       " 'GSC',\n",
       " 'GSX2',\n",
       " 'GTF2F2',\n",
       " 'Glycophorin',\n",
       " 'H1-0',\n",
       " 'H1-6',\n",
       " 'HARS1',\n",
       " 'HBB',\n",
       " 'HBG1',\n",
       " 'HCK',\n",
       " 'HECTD1',\n",
       " 'HECW2',\n",
       " 'HERC2',\n",
       " 'HESX1',\n",
       " 'HMBS',\n",
       " 'HMG20A',\n",
       " 'HMGCR',\n",
       " 'HNF4A',\n",
       " 'HNRNPK',\n",
       " 'HNRNPU',\n",
       " 'HNRNPUL1',\n",
       " 'HNRNPUL2',\n",
       " 'HOXB1',\n",
       " 'HUWE1',\n",
       " 'IGHG1',\n",
       " 'INTS12',\n",
       " 'IRF4',\n",
       " 'IRF6',\n",
       " 'ITCH',\n",
       " 'ITK',\n",
       " 'ITSN1',\n",
       " 'ITSN2',\n",
       " 'JAG1',\n",
       " 'JAK1',\n",
       " 'KANSL2',\n",
       " 'KCMF1',\n",
       " 'KCNE1',\n",
       " 'KCNQ1',\n",
       " 'KCNQ2',\n",
       " 'KCNQ4',\n",
       " 'KDM1A',\n",
       " 'KDM1B',\n",
       " 'KDM2B',\n",
       " 'KDM5C',\n",
       " 'KHSRP',\n",
       " 'KIF16B',\n",
       " 'KLF11',\n",
       " 'KMT2A',\n",
       " 'KRAS',\n",
       " 'LASP1',\n",
       " 'LATS1',\n",
       " 'LCK',\n",
       " 'LCOR',\n",
       " 'LCP1',\n",
       " 'LDB3',\n",
       " 'LDLR',\n",
       " 'LDLRAP1',\n",
       " 'LIMS2',\n",
       " 'LSM14A',\n",
       " 'LYN',\n",
       " 'MAEL',\n",
       " 'MAGI1',\n",
       " 'MAGI2',\n",
       " 'MAGI3',\n",
       " 'MAMSTR',\n",
       " 'MAP2K5',\n",
       " 'MAP3K20',\n",
       " 'MAPK1',\n",
       " 'MCM10',\n",
       " 'MDM2',\n",
       " 'MDM4',\n",
       " 'MECP2',\n",
       " 'MEX3C',\n",
       " 'MEX3D',\n",
       " 'MIB1',\n",
       " 'MID1',\n",
       " 'MID2',\n",
       " 'MIS18BP1',\n",
       " 'MKRN1',\n",
       " 'MKRN2',\n",
       " 'MPDZ',\n",
       " 'MPL',\n",
       " 'MPP3',\n",
       " 'MRTFA',\n",
       " 'MSH2',\n",
       " 'MSMB',\n",
       " 'MSX1',\n",
       " 'MSX2',\n",
       " 'MTA3',\n",
       " 'MTHFR',\n",
       " 'MXD1',\n",
       " 'MXI1',\n",
       " 'MYB',\n",
       " 'MYC',\n",
       " 'MYO1E',\n",
       " 'MYOCD',\n",
       " 'MYSM1',\n",
       " 'NANOS2',\n",
       " 'NCF1',\n",
       " 'NCF2',\n",
       " 'NCOR2',\n",
       " 'NCS1',\n",
       " 'NDUFAF6',\n",
       " 'NEB',\n",
       " 'NEDD4',\n",
       " 'NEDD4L',\n",
       " 'NEIL3',\n",
       " 'NKX3-1',\n",
       " 'NPHP1',\n",
       " 'NR1D2',\n",
       " 'NR2F1',\n",
       " 'NR3C1',\n",
       " 'NR3C2',\n",
       " 'NR4A2',\n",
       " 'NUDT15',\n",
       " 'OBSCN',\n",
       " 'OSTF1',\n",
       " 'OTX2',\n",
       " 'OVOL2',\n",
       " 'PACSIN1',\n",
       " 'PACSIN2',\n",
       " 'PACSIN3',\n",
       " 'PARD3',\n",
       " 'PARD3B',\n",
       " 'PARP1',\n",
       " 'PAX6',\n",
       " 'PAX7',\n",
       " 'PBRM1',\n",
       " 'PCBP1',\n",
       " 'PCLO',\n",
       " 'PDHX',\n",
       " 'PDLIM2',\n",
       " 'PDZRN3',\n",
       " 'PHF20',\n",
       " 'PHOX2A',\n",
       " 'PIN1',\n",
       " 'PITX2',\n",
       " 'PKLR',\n",
       " 'PKN1',\n",
       " 'PLCG2',\n",
       " 'PMS1',\n",
       " 'POU1F1',\n",
       " 'POU2F1',\n",
       " 'POU2F2',\n",
       " 'POU2F3',\n",
       " 'POU3F1',\n",
       " 'POU3F2',\n",
       " 'POU3F3',\n",
       " 'POU3F4',\n",
       " 'POU4F1',\n",
       " 'POU4F2',\n",
       " 'POU4F3',\n",
       " 'POU5F1',\n",
       " 'POU6F1',\n",
       " 'POU6F2',\n",
       " 'PPARD',\n",
       " 'PPP1R9A',\n",
       " 'PRDM15',\n",
       " 'PRDM16',\n",
       " 'PRDM5',\n",
       " 'PRDM8',\n",
       " 'PRKCD',\n",
       " 'PRKN',\n",
       " 'PROP1',\n",
       " 'PRPF3',\n",
       " 'PRPF40A',\n",
       " 'PRPF40B',\n",
       " 'PRRX1',\n",
       " 'PSTPIP1',\n",
       " 'PTEN',\n",
       " 'PTK6',\n",
       " 'PYCARD',\n",
       " 'RAD23A',\n",
       " 'RAD23B',\n",
       " 'RAF1',\n",
       " 'RAG2',\n",
       " 'RALBP1',\n",
       " 'RANBP2',\n",
       " 'RARB',\n",
       " 'RASA1',\n",
       " 'RASA4',\n",
       " 'RASGRP1',\n",
       " 'RBCK1',\n",
       " 'RBM10',\n",
       " 'RCOR1',\n",
       " 'RCOR3',\n",
       " 'RERE',\n",
       " 'RET',\n",
       " 'RFC1',\n",
       " 'RHO',\n",
       " 'RIPK2',\n",
       " 'RNF113A',\n",
       " 'RNF126',\n",
       " 'RNF32',\n",
       " 'RNF7',\n",
       " 'RPL35',\n",
       " 'RSL24D1',\n",
       " 'RUFY1',\n",
       " 'RXRA',\n",
       " 'Ras',\n",
       " 'SAFB',\n",
       " 'SAFB2',\n",
       " 'SALL1',\n",
       " 'SALL4',\n",
       " 'SAMD9',\n",
       " 'SARNP',\n",
       " 'SASH1',\n",
       " 'SATB1',\n",
       " 'SATB2',\n",
       " 'SCN5A',\n",
       " 'SCRIB',\n",
       " 'SETD2',\n",
       " 'SGCB',\n",
       " 'SH3D19',\n",
       " 'SH3PXD2B',\n",
       " 'SHOX',\n",
       " 'SHROOM4',\n",
       " 'SIX1',\n",
       " 'SIX2',\n",
       " 'SIX3',\n",
       " 'SIX6',\n",
       " 'SLTM',\n",
       " 'SMARCA4',\n",
       " 'SMARCB1',\n",
       " 'SMARCC1',\n",
       " 'SMARCC2',\n",
       " 'SMARCE1',\n",
       " 'SMURF2',\n",
       " 'SNRPN',\n",
       " 'SNTA1',\n",
       " 'SORBS1',\n",
       " 'SORT1',\n",
       " 'SOX11',\n",
       " 'SOX17',\n",
       " 'SOX18',\n",
       " 'SOX2',\n",
       " 'SOX3',\n",
       " 'SOX30',\n",
       " 'SOX4',\n",
       " 'SOX5',\n",
       " 'SOX6',\n",
       " 'SOX8',\n",
       " 'SP7',\n",
       " 'SPTA1',\n",
       " 'SPTAN1',\n",
       " 'SQSTM1',\n",
       " 'SRC',\n",
       " 'SRGAP1',\n",
       " 'SRGAP3',\n",
       " 'SRY',\n",
       " 'STAU1',\n",
       " 'STOX1',\n",
       " 'STOX2',\n",
       " 'STXBP4',\n",
       " 'SUMO1',\n",
       " 'SUOX',\n",
       " 'TAB3',\n",
       " 'TADA2A',\n",
       " 'TARDBP',\n",
       " 'TAX1BP1',\n",
       " 'TCEANC',\n",
       " 'TCERG1',\n",
       " 'TCERG1L',\n",
       " 'TCF7L2',\n",
       " 'TDRD3',\n",
       " 'TECR',\n",
       " 'TERF2',\n",
       " 'TERT',\n",
       " 'TESMIN',\n",
       " 'TFG',\n",
       " 'TIAM1',\n",
       " 'TJP2',\n",
       " 'TNKS2',\n",
       " 'TNNC2',\n",
       " 'TOE1',\n",
       " 'TOP3A',\n",
       " 'TOX3',\n",
       " 'TP53',\n",
       " 'TP63',\n",
       " 'TP73',\n",
       " 'TPK1',\n",
       " 'TPMT',\n",
       " 'TRIM26',\n",
       " 'TRIM28',\n",
       " 'TRIM3',\n",
       " 'TRIM36',\n",
       " 'TRIM44',\n",
       " 'TRIM49C',\n",
       " 'TRIM6',\n",
       " 'TRIM71',\n",
       " 'TRMT13',\n",
       " 'TSC2',\n",
       " 'TTC3',\n",
       " 'UBB',\n",
       " 'UBC',\n",
       " 'UBE2I',\n",
       " 'UBE2K',\n",
       " 'UBE3A',\n",
       " 'UBE4B',\n",
       " 'UBQLN3',\n",
       " 'UBR5',\n",
       " 'UBTF',\n",
       " 'UBXN2B',\n",
       " 'UC88',\n",
       " 'UFM1',\n",
       " 'USH1C',\n",
       " 'VAV1',\n",
       " 'VAX1',\n",
       " 'VCP',\n",
       " 'VIL1',\n",
       " 'VKORC1',\n",
       " 'WBP4',\n",
       " 'WNK1',\n",
       " 'WSB2',\n",
       " 'WT1',\n",
       " 'WWP1',\n",
       " 'WWP2',\n",
       " 'WWTR1',\n",
       " 'XK',\n",
       " 'XRCC6',\n",
       " 'YAP1',\n",
       " 'YBX1',\n",
       " 'YBX2',\n",
       " 'YBX3',\n",
       " 'YY1',\n",
       " 'ZBTB20',\n",
       " 'ZBTB24',\n",
       " 'ZC3H10',\n",
       " 'ZC3H15',\n",
       " 'ZC3H7A',\n",
       " 'ZEB1',\n",
       " 'ZFAND3',\n",
       " 'ZFC3H1',\n",
       " 'ZFHX2',\n",
       " 'ZFHX3',\n",
       " 'ZFHX4',\n",
       " 'ZFP30',\n",
       " 'ZFP36',\n",
       " 'ZFP36L2',\n",
       " 'ZFP57',\n",
       " 'ZFYVE16',\n",
       " 'ZHX1',\n",
       " 'ZHX2',\n",
       " 'ZIC2',\n",
       " 'ZIC3',\n",
       " 'ZMAT3',\n",
       " 'ZMYM2',\n",
       " 'ZMYM3',\n",
       " 'ZMYM5',\n",
       " 'ZMYM6',\n",
       " 'ZNF148',\n",
       " 'ZNF292',\n",
       " 'ZNF408',\n",
       " 'ZNF711',\n",
       " 'ZNF81',\n",
       " 'ZRANB2',\n",
       " 'ZRS',\n",
       " 'ZYX',\n",
       " 'ZZZ3',\n",
       " 'alpha-synuclein',\n",
       " 'human'}"
      ]
     },
     "execution_count": 18,
     "metadata": {},
     "output_type": "execute_result"
    }
   ],
   "source": [
    "set(unique_genes)"
   ]
  },
  {
   "cell_type": "markdown",
   "id": "042e2432",
   "metadata": {},
   "source": [
    "### Generate Summary Statistics Table"
   ]
  },
  {
   "cell_type": "code",
   "execution_count": 19,
   "id": "0b188ac0",
   "metadata": {},
   "outputs": [
    {
     "data": {
      "text/html": [
       "<div>\n",
       "<style scoped>\n",
       "    .dataframe tbody tr th:only-of-type {\n",
       "        vertical-align: middle;\n",
       "    }\n",
       "\n",
       "    .dataframe tbody tr th {\n",
       "        vertical-align: top;\n",
       "    }\n",
       "\n",
       "    .dataframe thead th {\n",
       "        text-align: right;\n",
       "    }\n",
       "</style>\n",
       "<table border=\"1\" class=\"dataframe\">\n",
       "  <thead>\n",
       "    <tr style=\"text-align: right;\">\n",
       "      <th></th>\n",
       "      <th>Value</th>\n",
       "    </tr>\n",
       "  </thead>\n",
       "  <tbody>\n",
       "    <tr>\n",
       "      <th>Protein Coding Score Sets</th>\n",
       "      <td>1023.00</td>\n",
       "    </tr>\n",
       "    <tr>\n",
       "      <th>Regulatory/Other Noncoding Score Sets</th>\n",
       "      <td>41.00</td>\n",
       "    </tr>\n",
       "    <tr>\n",
       "      <th>Score Sets with DNA Target Sequences</th>\n",
       "      <td>482.00</td>\n",
       "    </tr>\n",
       "    <tr>\n",
       "      <th>Score Sets with Protein Target Sequences</th>\n",
       "      <td>582.00</td>\n",
       "    </tr>\n",
       "    <tr>\n",
       "      <th>Average Length of Protein Target Sequences</th>\n",
       "      <td>105.39</td>\n",
       "    </tr>\n",
       "    <tr>\n",
       "      <th>Average Length of Protein Coding DNA Sequences</th>\n",
       "      <td>635.24</td>\n",
       "    </tr>\n",
       "    <tr>\n",
       "      <th>Average Length of Regulatory/Other DNA Sequences</th>\n",
       "      <td>353.27</td>\n",
       "    </tr>\n",
       "    <tr>\n",
       "      <th>Protein Coding Score Sets with Gene Symbols/Aliases</th>\n",
       "      <td>348.00</td>\n",
       "    </tr>\n",
       "    <tr>\n",
       "      <th>Protein Coding Score Sets with Descriptive Targets</th>\n",
       "      <td>675.00</td>\n",
       "    </tr>\n",
       "    <tr>\n",
       "      <th>Regulatory/Other Noncoding Score Sets with Descriptive Targets</th>\n",
       "      <td>41.00</td>\n",
       "    </tr>\n",
       "    <tr>\n",
       "      <th>Unique Targets</th>\n",
       "      <td>526.00</td>\n",
       "    </tr>\n",
       "  </tbody>\n",
       "</table>\n",
       "</div>"
      ],
      "text/plain": [
       "                                                      Value\n",
       "Protein Coding Score Sets                           1023.00\n",
       "Regulatory/Other Noncoding Score Sets                 41.00\n",
       "Score Sets with DNA Target Sequences                 482.00\n",
       "Score Sets with Protein Target Sequences             582.00\n",
       "Average Length of Protein Target Sequences           105.39\n",
       "Average Length of Protein Coding DNA Sequences       635.24\n",
       "Average Length of Regulatory/Other DNA Sequences     353.27\n",
       "Protein Coding Score Sets with Gene Symbols/Ali...   348.00\n",
       "Protein Coding Score Sets with Descriptive Targets   675.00\n",
       "Regulatory/Other Noncoding Score Sets with Desc...    41.00\n",
       "Unique Targets                                       526.00"
      ]
     },
     "execution_count": 19,
     "metadata": {},
     "output_type": "execute_result"
    }
   ],
   "source": [
    "params = {\"Protein Coding Score Sets\": 1023,\n",
    "          \"Regulatory/Other Noncoding Score Sets\": 41,\n",
    "          \"Score Sets with DNA Target Sequences\": 482,\n",
    "          \"Score Sets with Protein Target Sequences\": 582,\n",
    "          \"Average Length of Protein Target Sequences\": 105.39,\n",
    "          \"Average Length of Protein Coding DNA Sequences\": 635.24,\n",
    "          \"Average Length of Regulatory/Other DNA Sequences\": 353.27,\n",
    "          \"Protein Coding Score Sets with Gene Symbols/Aliases\": 348,\n",
    "          \"Protein Coding Score Sets with Descriptive Targets\": 675,\n",
    "          \"Regulatory/Other Noncoding Score Sets with Descriptive Targets\": 41,\n",
    "          \"Unique Targets\": 526}\n",
    "pd.DataFrame.from_dict(params, orient=\"index\",columns=[\"Value\"])"
   ]
  }
 ],
 "metadata": {
  "kernelspec": {
   "display_name": "venv",
   "language": "python",
   "name": "python3"
  },
  "language_info": {
   "codemirror_mode": {
    "name": "ipython",
    "version": 3
   },
   "file_extension": ".py",
   "mimetype": "text/x-python",
   "name": "python",
   "nbconvert_exporter": "python",
   "pygments_lexer": "ipython3",
   "version": "3.11.11"
  }
 },
 "nbformat": 4,
 "nbformat_minor": 5
}
