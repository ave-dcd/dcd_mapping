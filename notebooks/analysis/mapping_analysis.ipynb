{
 "cells": [
  {
   "cell_type": "markdown",
   "id": "bc372cc5",
   "metadata": {},
   "source": [
    "# MaveDB Mapping Method Analysis\n",
    "This notebook assesses the performance of the mapping method, comparing the match between reference sequences for pre-mapped and post-mapped VRS objects. This notebook also computes the number of unique VRS alleles generated across the examined score sets and creates associated figures."
   ]
  },
  {
   "cell_type": "markdown",
   "id": "ac0dcb44",
   "metadata": {},
   "source": [
    "## Load Relevant Libraries\n",
    "Run the cell below to load the libraries used in the analysis"
   ]
  },
  {
   "cell_type": "code",
   "execution_count": 1,
   "id": "0e09bf08",
   "metadata": {},
   "outputs": [],
   "source": [
    "import json\n",
    "\n",
    "import pandas as pd\n",
    "from Bio.Seq import Seq\n",
    "from cool_seq_tool.schemas import Strand"
   ]
  },
  {
   "cell_type": "markdown",
   "id": "7ec3d972",
   "metadata": {},
   "source": [
    "## Load List of Examined Score Sets"
   ]
  },
  {
   "cell_type": "markdown",
   "id": "18ad5f4c",
   "metadata": {},
   "source": [
    "Run the cells below to a load a list of processed score sets and their corresponding alignment data"
   ]
  },
  {
   "cell_type": "code",
   "execution_count": 2,
   "id": "b839e687",
   "metadata": {},
   "outputs": [],
   "source": [
    "mave_metadata_dat = pd.read_csv(\"analysis_files/mave_metadata_20241114.csv\", index_col=[0])\n",
    "score_sets = mave_metadata_dat[\"urn\"].to_list()"
   ]
  },
  {
   "cell_type": "code",
   "execution_count": 3,
   "id": "16da125e",
   "metadata": {},
   "outputs": [],
   "source": [
    "import pickle\n",
    "from pathlib import Path\n",
    "\n",
    "with Path.open(\"analysis_files/score_sets_strands.pkl\", \"rb\") as fn:\n",
    "    strand_dict = pickle.load(fn)"
   ]
  },
  {
   "cell_type": "markdown",
   "id": "4d037805",
   "metadata": {},
   "source": [
    "## Determine the MaveDB IDs of Variants with Reference Mismatches\n",
    "Run the cells below to generate a dictionary listing the MaveDB IDs of variants with reference mismatches. The dictionary is keyed by score set URN."
   ]
  },
  {
   "cell_type": "code",
   "execution_count": 4,
   "id": "42846d0b",
   "metadata": {},
   "outputs": [],
   "source": [
    "def get_post_mapped_variant(pre_mapped_digest: str, post_mapped_variants: dict) -> dict | None:\n",
    "    \"\"\"Given a pre-mapped digest, find the corresponding post-mapped variant\n",
    "\n",
    "    :param pre_mapped_digest: The pre-mapped variant digest\n",
    "    :param post_mapped_variants: A dictioonary representing the post-mapped variants attribute\n",
    "    :return The post-mapped variant that contains the queried pre-mapped digest, or None if it does not exist\n",
    "    \"\"\"\n",
    "    # Check if post_mapped_variants is a single variant or list\n",
    "    variant_to_return = None\n",
    "    if \"members\" not in post_mapped_variants:\n",
    "        if post_mapped_variants[\"extensions\"][1][\"value\"] != pre_mapped_digest:\n",
    "            return None\n",
    "    else:\n",
    "        for variant in post_mapped_variants[\"members\"]:\n",
    "            for extension in variant[\"extensions\"]:\n",
    "                if extension[\"name\"] == \"pre_mapped_id\" and extension[\"value\"] == pre_mapped_digest:\n",
    "                    variant_to_return = variant\n",
    "    return variant_to_return"
   ]
  },
  {
   "cell_type": "code",
   "execution_count": 5,
   "id": "f0c1b1c6",
   "metadata": {},
   "outputs": [],
   "source": [
    "def is_concordant(pre_mapped: str, post_mapped: str, rc: str, seq_type: str, strand: Strand,) -> bool:\n",
    "    \"\"\"Determine whether or not a variant mapping displays concordance\n",
    "\n",
    "    :param pre_mapped: The pre-mapped reference sequence\n",
    "    :param post_mapped: The post-mapped reference sequence\n",
    "    :param rc: The reverse complement sequence\n",
    "    :param seq_type: The sequence type\n",
    "    :param strand: Strand\n",
    "    :return ``True`` if the pre_mapped and post_mapped sequence are equivalent, ``False`` if not\n",
    "    \"\"\"\n",
    "    if seq_type == \"protein\" and pre_mapped == post_mapped:\n",
    "        return True\n",
    "    if seq_type == \"dna\":\n",
    "        if strand == Strand.POSITIVE and pre_mapped == post_mapped:\n",
    "            return True\n",
    "        if strand == Strand.NEGATIVE and post_mapped == rc:\n",
    "            return True\n",
    "    return False"
   ]
  },
  {
   "cell_type": "code",
   "execution_count": 6,
   "id": "5f22985f",
   "metadata": {},
   "outputs": [
    {
     "data": {
      "text/plain": [
       "'The number of examined variant pairs is: 8996016'"
      ]
     },
     "execution_count": 6,
     "metadata": {},
     "output_type": "execute_result"
    }
   ],
   "source": [
    "import os\n",
    "\n",
    "from Bio.Seq import Seq\n",
    "\n",
    "var_count = 0\n",
    "diff_vars_dict = {}\n",
    "\n",
    "for urn in score_sets:\n",
    "    files = list(Path(\"analysis_files/mappings\").glob(f\"*{urn}_mapping*\"))\n",
    "    if files:\n",
    "        latest_file = max(files, key=os.path.getmtime)\n",
    "    else:\n",
    "        continue\n",
    "\n",
    "    f = Path.open(latest_file)\n",
    "    dat = json.load(f)\n",
    "    computed_seq_type = dat[\"computed_reference_sequence\"][\"sequence_type\"]\n",
    "    dat = dat[\"mapped_scores\"]\n",
    "\n",
    "    diff_vars = []\n",
    "    strand = strand_dict[urn]\n",
    "\n",
    "    for j,var_mapping in enumerate(dat):\n",
    "        # Check if post-mapped variant exists\n",
    "        if \"post_mapped\" in var_mapping:\n",
    "\n",
    "            if \"members\" not in var_mapping[\"pre_mapped\"]:\n",
    "                var_count += 1\n",
    "                seq_pre = var_mapping[\"pre_mapped\"][\"location\"][\"sequence\"]\n",
    "                seq_post = var_mapping[\"post_mapped\"][\"location\"][\"sequence\"]\n",
    "                seq_pre_rv = str(Seq(seq_pre).reverse_complement())\n",
    "\n",
    "                if not is_concordant(seq_pre, seq_post, seq_pre_rv, computed_seq_type, strand,):\n",
    "                    diff_vars.append(j)\n",
    "\n",
    "            else:\n",
    "                for pre_mapped_var in var_mapping[\"pre_mapped\"][\"members\"]:\n",
    "                    post_mapped_var = get_post_mapped_variant(pre_mapped_var[\"id\"], var_mapping[\"post_mapped\"])\n",
    "                    if post_mapped_var:\n",
    "                        var_count += 1\n",
    "                        seq_pre = pre_mapped_var[\"location\"][\"sequence\"]\n",
    "                        seq_post = post_mapped_var[\"location\"][\"sequence\"]\n",
    "                        seq_pre_rv = str(Seq(seq_pre).reverse_complement())\n",
    "\n",
    "                        if not is_concordant(seq_pre, seq_post, seq_pre_rv, computed_seq_type, strand,):\n",
    "                            diff_vars.append(j)\n",
    "    diff_vars_dict[urn] = diff_vars\n",
    "\n",
    "f\"The number of examined variant pairs is: {var_count}\""
   ]
  },
  {
   "cell_type": "markdown",
   "id": "57c4d6d7",
   "metadata": {},
   "source": [
    "### The cell below can be uncommented to examine the output of the above cell"
   ]
  },
  {
   "cell_type": "code",
   "execution_count": 7,
   "id": "240e02be",
   "metadata": {},
   "outputs": [],
   "source": [
    "#diff_vars_dict"
   ]
  },
  {
   "cell_type": "markdown",
   "id": "2e27dc3f",
   "metadata": {},
   "source": [
    "### Examine Example Mismatch\n",
    "Run the cell below to view an example of reference mismatch discordance due to a MAVE variant that spans an alignment block"
   ]
  },
  {
   "cell_type": "code",
   "execution_count": 8,
   "id": "1c5c6167",
   "metadata": {},
   "outputs": [
    {
     "data": {
      "text/plain": [
       "{'pre_mapped': {'id': 'ga4gh:VA.jlbBnKA-57J33BwYkxb-BH9PVxy8hM6l',\n",
       "  'type': 'Allele',\n",
       "  'extensions': [{'name': 'vrs_v1.3_id',\n",
       "    'value': 'ga4gh:VA.bvpmH_xZTowqToVsVqI4xSGf-cnxomr-'}],\n",
       "  'location': {'type': 'SequenceLocation',\n",
       "   'digest': 'XU7dFPPe3CpfgpNrjdWNBLuoEg25_lH5',\n",
       "   'sequenceReference': {'type': 'SequenceReference',\n",
       "    'refgetAccession': 'SQ.sVMC1jmTXRvuzBCDJ8aoBmZ_Uu35YFj7'},\n",
       "   'start': 317,\n",
       "   'end': 318,\n",
       "   'sequence': 'G'},\n",
       "  'state': {'type': 'LiteralSequenceExpression', 'sequence': 'T'}},\n",
       " 'post_mapped': {'id': 'ga4gh:VA.e4PmU7GNB2BFcT5YWMTWXzLyicgcpCuK',\n",
       "  'type': 'Allele',\n",
       "  'extensions': [{'name': 'vrs_v1.3_id',\n",
       "    'value': 'ga4gh:VA.SFoiy7dguf6j55z8f994YT084LEbBmhw'},\n",
       "   {'name': 'pre_mapped_id',\n",
       "    'value': 'ga4gh:VA.jlbBnKA-57J33BwYkxb-BH9PVxy8hM6l'}],\n",
       "  'expressions': [{'syntax': 'hgvs.g', 'value': 'NC_000021.9:g.43066376C>A'}],\n",
       "  'location': {'type': 'SequenceLocation',\n",
       "   'digest': 'AOhYHP8GSHxdxs-U4vmiJmvSscwQybUX',\n",
       "   'sequenceReference': {'type': 'SequenceReference',\n",
       "    'refgetAccession': 'SQ.5ZUqxCmDDgN4xTRbaSjN8LwgZironmB8'},\n",
       "   'start': 43066375,\n",
       "   'end': 43066376,\n",
       "   'sequence': 'C'},\n",
       "  'state': {'type': 'LiteralSequenceExpression', 'sequence': 'A'}},\n",
       " 'mavedb_id': 'urn:mavedb:00000005-a-6#5602',\n",
       " 'relation': 'SO:is_homologous_to',\n",
       " 'score': 1.0173291538026898}"
      ]
     },
     "execution_count": 8,
     "metadata": {},
     "output_type": "execute_result"
    }
   ],
   "source": [
    "f = Path.open(\"analysis_files/mappings/urn:mavedb:00000005-a-6_mapping_2025-02-19T15:09:56.042819+00:00.json\")\n",
    "dat = json.load(f)\n",
    "dat[\"mapped_scores\"][5601]"
   ]
  },
  {
   "cell_type": "markdown",
   "id": "bbe07ed2",
   "metadata": {},
   "source": [
    "## Compute the Proportion of Reference Mismatches\n",
    "\n",
    "The cell below computes the proportion of reference mismatches among all MAVE variants that have been mapped."
   ]
  },
  {
   "cell_type": "code",
   "execution_count": 9,
   "id": "de7a5de0",
   "metadata": {},
   "outputs": [
    {
     "data": {
      "text/plain": [
       "'There are 2838411 instances of reference mismatch. This corresponds to a percentage of 31.552 (2838411/8996016)'"
      ]
     },
     "execution_count": 9,
     "metadata": {},
     "output_type": "execute_result"
    }
   ],
   "source": [
    "mm_count = 0\n",
    "for key in diff_vars_dict:\n",
    "    mm_count = mm_count + len(diff_vars_dict[key])\n",
    "f\"There are {mm_count} instances of reference mismatch. This corresponds to a percentage of {round(100*mm_count/var_count,3)} ({mm_count}/{var_count})\""
   ]
  },
  {
   "cell_type": "markdown",
   "id": "3176a9bc",
   "metadata": {},
   "source": [
    "Caveat: This percentage could be influenced due to factors including:\n",
    "1. Point mutations in target sequences that cause discordance with the human reference sequence, even though the mapped position is correct\n",
    "2. The normalization of MAVE variants that span intron-exon boundaries can lead to concordant variant pairs, even though the positions for parts of the indel event may overlap with intronic space\n",
    "3. Some score sets may include variants that occur past the target sequence length, leading to discordance with the mapped variants"
   ]
  },
  {
   "cell_type": "markdown",
   "id": "281b4922",
   "metadata": {},
   "source": [
    "Run the cell below to determine the number of discordant pairs from score sets generated in the \"Mega-scale experimental analysis of protein folding stability in biology and design\" paper"
   ]
  },
  {
   "cell_type": "code",
   "execution_count": 10,
   "id": "de3fde08",
   "metadata": {},
   "outputs": [
    {
     "data": {
      "text/plain": [
       "'There are 2805541 instances of reference mismatch in the subset'"
      ]
     },
     "execution_count": 10,
     "metadata": {},
     "output_type": "execute_result"
    }
   ],
   "source": [
    "filtered_list = score_sets[243:504]\n",
    "mm_count = 0\n",
    "\n",
    "for key in filtered_list:\n",
    "    mm_count = mm_count + len(diff_vars_dict[key])\n",
    "f\"There are {mm_count} instances of reference mismatch in the subset\""
   ]
  },
  {
   "cell_type": "markdown",
   "id": "92bc5e87",
   "metadata": {},
   "source": [
    "## Generate VRS Allele ID Dictionary\n",
    "Run the cell below to generate a VRS allele ID dictionary for the concordant MAVE variants. The dictionary is keyed by the post-mapped VRS allele IDs, and each key's contents contain a list of corresponding pre-mapped VRS allele IDs."
   ]
  },
  {
   "cell_type": "code",
   "execution_count": 11,
   "id": "3eb301ed",
   "metadata": {},
   "outputs": [],
   "source": [
    "allele_list_dict = {}\n",
    "for urn in score_sets:\n",
    "    files = list(Path(\"analysis_files/mappings\").glob(f\"*{urn}_mapping*\"))\n",
    "    if files:\n",
    "        latest_file = max(files, key=os.path.getmtime)\n",
    "    else:\n",
    "        continue\n",
    "\n",
    "    f = Path.open(latest_file)\n",
    "    dat = json.load(f)\n",
    "    computed_seq_type = dat[\"computed_reference_sequence\"][\"sequence_type\"]\n",
    "    dat = dat[\"mapped_scores\"]\n",
    "\n",
    "    diff_vars = []\n",
    "    strand = strand_dict[urn]\n",
    "\n",
    "    for _,var_mapping in enumerate(dat):\n",
    "        # Check if post-mapped variant exists\n",
    "        if \"post_mapped\" in var_mapping:\n",
    "            if \"members\" not in var_mapping[\"pre_mapped\"]:\n",
    "                # Test if pre_mapped and post_mapped variants are concordant\n",
    "                concordant = is_concordant(var_mapping[\"pre_mapped\"][\"location\"][\"sequence\"],\n",
    "                                                var_mapping[\"post_mapped\"][\"location\"][\"sequence\"],\n",
    "                                                str(Seq(var_mapping[\"pre_mapped\"][\"location\"][\"sequence\"]).reverse_complement()),\n",
    "                                                computed_seq_type,\n",
    "                                                strand)\n",
    "                if concordant:\n",
    "                    va = var_mapping[\"post_mapped\"][\"id\"]\n",
    "                    if va not in allele_list_dict:\n",
    "                        allele_list_dict[va] = [var_mapping[\"pre_mapped\"][\"id\"]]\n",
    "                    else:\n",
    "                        if var_mapping[\"pre_mapped\"][\"id\"] not in allele_list_dict[va]:\n",
    "                            tmp = allele_list_dict[va]\n",
    "                            tmp.append(var_mapping[\"pre_mapped\"][\"id\"])\n",
    "                            allele_list_dict[va] = tmp\n",
    "            else:\n",
    "                for pre_mapped_var in var_mapping[\"pre_mapped\"][\"members\"]:\n",
    "                    post_mapped_var = get_post_mapped_variant(pre_mapped_var[\"id\"], var_mapping[\"post_mapped\"])\n",
    "                    if post_mapped_var:\n",
    "                        # Test if pre-mapped and post-mapped variants are concordant\n",
    "                        concordant = is_concordant(pre_mapped_var[\"location\"][\"sequence\"],\n",
    "                                                post_mapped_var[\"location\"][\"sequence\"],\n",
    "                                                str(Seq(pre_mapped_var[\"location\"][\"sequence\"]).reverse_complement()),\n",
    "                                                computed_seq_type,\n",
    "                                                strand)\n",
    "                        if concordant:\n",
    "                            va = post_mapped_var[\"id\"]\n",
    "                            if va not in allele_list_dict:\n",
    "                                allele_list_dict[va] = [pre_mapped_var[\"id\"]]\n",
    "                            else:\n",
    "                                if pre_mapped_var[\"id\"] not in allele_list_dict[va]:\n",
    "                                    tmp = allele_list_dict[va]\n",
    "                                    tmp.append(pre_mapped_var[\"id\"])\n",
    "                                    allele_list_dict[va] = tmp"
   ]
  },
  {
   "cell_type": "markdown",
   "id": "85b4e915",
   "metadata": {},
   "source": [
    "### Analyze VRS Allele ID Dictionary\n",
    "Run the cell below to derive relevant statistics from the VRS allele ID dictionary"
   ]
  },
  {
   "cell_type": "code",
   "execution_count": 12,
   "id": "fc87cbbe",
   "metadata": {},
   "outputs": [
    {
     "name": "stdout",
     "output_type": "stream",
     "text": [
      "There are 1018083 unique post-mapped MAVE variants in the allele dictionary\n",
      "The 1018083 post-mapped variants are associated with 1050090 pre-mapped variants\n",
      "There are 1048805 unique pre-mapped MAVE variants in the allele dictionary\n"
     ]
    }
   ],
   "source": [
    "print(f\"There are {len(allele_list_dict)} unique post-mapped MAVE variants in the allele dictionary\")\n",
    "\n",
    "pre_mapped_variants = 0\n",
    "for key in allele_list_dict:\n",
    "    pre_mapped_variants += len(allele_list_dict[key])\n",
    "print(f\"The {len(allele_list_dict)} post-mapped variants are associated with {pre_mapped_variants} pre-mapped variants\")\n",
    "\n",
    "print(f\"There are {len({var for var_list in allele_list_dict.values() for var in var_list})} unique pre-mapped MAVE variants in the allele dictionary\")"
   ]
  },
  {
   "cell_type": "markdown",
   "id": "c1b38f4a",
   "metadata": {},
   "source": [
    "## Compute the Number of Processed Variants Across the Examined Score Sets\n",
    "Run the cell below to compute the number of variants that were processed across the 209 examined score sets"
   ]
  },
  {
   "cell_type": "code",
   "execution_count": 13,
   "id": "5d0969e2",
   "metadata": {},
   "outputs": [
    {
     "data": {
      "text/plain": [
       "'There are 2994178 MAVE variants that were processed in this analysis'"
      ]
     },
     "execution_count": 13,
     "metadata": {},
     "output_type": "execute_result"
    }
   ],
   "source": [
    "var_count = 0\n",
    "for urn in score_sets:\n",
    "    files = list(Path(\"analysis_files/mappings\").glob(f\"*{urn}_mapping*\"))\n",
    "    if files:\n",
    "        latest_file = max(files, key=os.path.getmtime)\n",
    "    else:\n",
    "        continue\n",
    "\n",
    "    f = Path.open(latest_file)\n",
    "    dat = json.load(f)\n",
    "    computed_seq_type = dat[\"computed_reference_sequence\"][\"sequence_type\"]\n",
    "    dat = dat[\"mapped_scores\"]\n",
    "    var_count += len(dat)\n",
    "f\"There are {var_count} MAVE variants that were processed in this analysis\""
   ]
  },
  {
   "cell_type": "markdown",
   "id": "d0f3d60f",
   "metadata": {},
   "source": [
    "## Compute Score Set Summary Statistics\n",
    "Run the cell below to compute relevant mapping summary statistics"
   ]
  },
  {
   "cell_type": "code",
   "execution_count": 14,
   "id": "a4135f64",
   "metadata": {},
   "outputs": [
    {
     "name": "stdout",
     "output_type": "stream",
     "text": [
      "The score set(s) with the fewest number of processed variants is ['urn:mavedb:00000094-a-1'] with 1 variants\n",
      "The score set(s) with the largest number of processed variants is ['urn:mavedb:00000053-a-1'] with 648022 variants\n",
      "The average number of processed variants per score was 2832.713339640492\n",
      "The median number of variants per score set is 1289.0\n",
      "The interquartile range falls between 920.0 and 1794.0\n"
     ]
    }
   ],
   "source": [
    "import numpy as np\n",
    "\n",
    "variant_count_dict = {}\n",
    "for urn in score_sets:\n",
    "    files = list(Path(\"analysis_files/mappings\").glob(f\"*{urn}_mapping*\"))\n",
    "    if files:\n",
    "        latest_file = max(files, key=os.path.getmtime)\n",
    "    else:\n",
    "        continue\n",
    "\n",
    "    f = Path.open(latest_file)\n",
    "    dat = json.load(f)\n",
    "    computed_seq_type = dat[\"computed_reference_sequence\"][\"sequence_type\"]\n",
    "    dat = dat[\"mapped_scores\"]\n",
    "    variant_count_dict[urn] = len(dat)\n",
    "\n",
    "min_value = min(variant_count_dict.values())\n",
    "min_value_dict = [key for key, value in variant_count_dict.items() if value == min_value]\n",
    "print(f\"The score set(s) with the fewest number of processed variants is {min_value_dict} with {min_value} variants\")\n",
    "\n",
    "max_value = max(variant_count_dict.values())\n",
    "max_value_dict = [key for key, value in variant_count_dict.items() if value == max_value]\n",
    "print(f\"The score set(s) with the largest number of processed variants is {max_value_dict} with {max_value} variants\")\n",
    "\n",
    "mean_value = sum(variant_count_dict.values()) / len(variant_count_dict)\n",
    "print(f\"The average number of processed variants per score was {mean_value}\")\n",
    "\n",
    "median_variants = np.median(list(variant_count_dict.values()))\n",
    "print(f\"The median number of variants per score set is {median_variants}\")\n",
    "\n",
    "values = list(variant_count_dict.values())\n",
    "iq25, iq75 = np.percentile(values, [25,75])\n",
    "print(f\"The interquartile range falls between {iq25} and {iq75}\")"
   ]
  },
  {
   "cell_type": "code",
   "execution_count": 15,
   "id": "335af4a1",
   "metadata": {},
   "outputs": [
    {
     "data": {
      "text/html": [
       "<div>\n",
       "<style scoped>\n",
       "    .dataframe tbody tr th:only-of-type {\n",
       "        vertical-align: middle;\n",
       "    }\n",
       "\n",
       "    .dataframe tbody tr th {\n",
       "        vertical-align: top;\n",
       "    }\n",
       "\n",
       "    .dataframe thead th {\n",
       "        text-align: right;\n",
       "    }\n",
       "</style>\n",
       "<table border=\"1\" class=\"dataframe\">\n",
       "  <thead>\n",
       "    <tr style=\"text-align: right;\">\n",
       "      <th></th>\n",
       "      <th>Value</th>\n",
       "    </tr>\n",
       "  </thead>\n",
       "  <tbody>\n",
       "    <tr>\n",
       "      <th>Number of Examined Variant Pairs</th>\n",
       "      <td>8996016 (100%)</td>\n",
       "    </tr>\n",
       "    <tr>\n",
       "      <th>Number of Concordant Variant Pairs</th>\n",
       "      <td>6157605 (68.45%)</td>\n",
       "    </tr>\n",
       "    <tr>\n",
       "      <th>Number of Pairs of Reference Mismatch</th>\n",
       "      <td>2838411 (31.55%)</td>\n",
       "    </tr>\n",
       "    <tr>\n",
       "      <th>Number of Unique Pre-Mapped Variants</th>\n",
       "      <td>1018083</td>\n",
       "    </tr>\n",
       "    <tr>\n",
       "      <th>Number of Unique Post-Mapped Variants</th>\n",
       "      <td>1048805</td>\n",
       "    </tr>\n",
       "    <tr>\n",
       "      <th>Minimum Number of Variants in a Score Set</th>\n",
       "      <td>1</td>\n",
       "    </tr>\n",
       "    <tr>\n",
       "      <th>Maximum Number of Variants in a Score Set</th>\n",
       "      <td>648022</td>\n",
       "    </tr>\n",
       "    <tr>\n",
       "      <th>Average Number of Variants in a Score Set</th>\n",
       "      <td>2833</td>\n",
       "    </tr>\n",
       "    <tr>\n",
       "      <th>Median Number of Variants in a Score Set</th>\n",
       "      <td>1289</td>\n",
       "    </tr>\n",
       "    <tr>\n",
       "      <th>Interquartile Range for Variants in a Score Set (25-75%)</th>\n",
       "      <td>(920, 1794)</td>\n",
       "    </tr>\n",
       "  </tbody>\n",
       "</table>\n",
       "</div>"
      ],
      "text/plain": [
       "                                                               Value\n",
       "Number of Examined Variant Pairs                      8996016 (100%)\n",
       "Number of Concordant Variant Pairs                  6157605 (68.45%)\n",
       "Number of Pairs of Reference Mismatch               2838411 (31.55%)\n",
       "Number of Unique Pre-Mapped Variants                         1018083\n",
       "Number of Unique Post-Mapped Variants                        1048805\n",
       "Minimum Number of Variants in a Score Set                          1\n",
       "Maximum Number of Variants in a Score Set                     648022\n",
       "Average Number of Variants in a Score Set                       2833\n",
       "Median Number of Variants in a Score Set                        1289\n",
       "Interquartile Range for Variants in a Score Set...       (920, 1794)"
      ]
     },
     "execution_count": 15,
     "metadata": {},
     "output_type": "execute_result"
    }
   ],
   "source": [
    "stats_data = {\n",
    "    \"Number of Examined Variant Pairs\": \"8996016 (100%)\",\n",
    "    \"Number of Concordant Variant Pairs\": \"6157605 (68.45%)\",\n",
    "    \"Number of Pairs of Reference Mismatch\": \"2838411 (31.55%)\",\n",
    "    \"Number of Unique Pre-Mapped Variants\": 1018083,\n",
    "    \"Number of Unique Post-Mapped Variants\": 1048805,\n",
    "    \"Minimum Number of Variants in a Score Set\": 1,\n",
    "    \"Maximum Number of Variants in a Score Set\": 648022,\n",
    "    \"Average Number of Variants in a Score Set\": 2833,\n",
    "    \"Median Number of Variants in a Score Set\": 1289,\n",
    "    \"Interquartile Range for Variants in a Score Set (25-75%)\": \"(920, 1794)\"\n",
    "}\n",
    "stats_data = pd.DataFrame.from_dict(stats_data, orient=\"index\", columns=[\"Value\"])\n",
    "stats_data"
   ]
  },
  {
   "cell_type": "markdown",
   "id": "d546ac71",
   "metadata": {},
   "source": [
    "## Create Histogram to Visualize Variant Counts Across Score Sets\n",
    "Run the cell below to create a historgram visualizing variant counts across the processed score sets"
   ]
  },
  {
   "cell_type": "code",
   "execution_count": 16,
   "id": "7ec89e27",
   "metadata": {},
   "outputs": [
    {
     "data": {
      "image/png": "[encoded data removed]",
      "text/plain": [
       "<Figure size 640x480 with 1 Axes>"
      ]
     },
     "metadata": {},
     "output_type": "display_data"
    }
   ],
   "source": [
    "import math\n",
    "\n",
    "import matplotlib.pyplot as plt\n",
    "import seaborn as sns\n",
    "\n",
    "variant_counts = list(variant_count_dict.values())\n",
    "log_variant_counts = [math.log(count) for count in variant_counts]\n",
    "\n",
    "ax = sns.histplot(log_variant_counts, bins=50, edgecolor=\"black\")\n",
    "plt.xticks(np.arange(0, 14, step=1))\n",
    "plt.yticks(np.arange(0, 300, step=50))\n",
    "plt.xlabel(\"Ln(Score Set Variant Counts)\")\n",
    "plt.ylabel(\"Variant Count Frequency\")\n",
    "\n",
    "plt.savefig(\"variant_counts.png\", dpi=300)\n",
    "plt.show()"
   ]
  },
  {
   "cell_type": "markdown",
   "id": "a587959d",
   "metadata": {},
   "source": [
    "## Visualize VRS ID Equivalence in Variant Mappings\n",
    "Run the cells below to create a pie chart visualizing the equivalence in variant mapping pairs"
   ]
  },
  {
   "cell_type": "code",
   "execution_count": 17,
   "id": "971dbd8a",
   "metadata": {},
   "outputs": [],
   "source": [
    "def compare_alleles(key: str, allele_list: list[str]) -> bool:\n",
    "    \"\"\"Iterate through a list of pre-mapped variants, and determine if it matches the post-mapped variant\n",
    "\n",
    "    :param key: The post-mapped variant VRS ID\n",
    "    :param allele_list: The list of pre-mapped variant VRS IDs\n",
    "    :return ``True`` if one pre-mapped VRS ID is equivalent to the key, ``False`` if not\n",
    "    \"\"\"\n",
    "    return any(vrs_id == key for vrs_id in allele_list)"
   ]
  },
  {
   "cell_type": "code",
   "execution_count": 18,
   "id": "29a0b28d",
   "metadata": {},
   "outputs": [
    {
     "data": {
      "image/png": "[encoded data removed]",
      "text/plain": [
       "<Figure size 600x600 with 1 Axes>"
      ]
     },
     "metadata": {},
     "output_type": "display_data"
    }
   ],
   "source": [
    "# Create pie chart showing how often the components in a mapping pair have different VRS IDs, highlighting need for mapping procedure\n",
    "same_ids = 0\n",
    "for key in allele_list_dict:\n",
    "    if compare_alleles(key, allele_list_dict[key]):\n",
    "        same_ids += 1\n",
    "diff_ids = len(allele_list_dict) - same_ids\n",
    "params = {\"Same VRS IDs\": [True, False],\n",
    "          \"Value\": [same_ids, diff_ids]}\n",
    "compare_alleles_df = pd.DataFrame(params)\n",
    "\n",
    "labels = \"Equivalent VRS IDs\", \"Different VRS IDs\"\n",
    "colors = [\"#ED9E9E\", \"#9AC2DD\"]\n",
    "\n",
    "fig, ax = plt.subplots(figsize=(6, 6))\n",
    "sizes = compare_alleles_df[\"Value\"].to_list()\n",
    "\n",
    "wedges, texts, autotexts = ax.pie(\n",
    "    sizes,\n",
    "    labels=labels,\n",
    "    autopct=lambda pct: f\"{round(pct/100.*sum(sizes))} ({pct:.1f}%)\",\n",
    "    colors=colors,\n",
    "    startangle=140,\n",
    "    explode=(0.05, 0.1),\n",
    "    shadow=False,\n",
    "    wedgeprops={\"edgecolor\": \"black\"}\n",
    ")\n",
    "\n",
    "for text in texts + autotexts:\n",
    "    text.set_fontsize(10)\n",
    "\n",
    "for _, autotext in enumerate(autotexts):\n",
    "    autotext.set_fontsize(10)\n",
    "    autotext.set_position((0.9 * autotext.get_position()[0], 0.8 * autotext.get_position()[1]))\n",
    "\n",
    "plt.tight_layout()\n",
    "\n",
    "# Save plot\n",
    "plt.savefig(\"mapped_variants_count.png\", dpi=300)\n",
    "plt.show()"
   ]
  }
 ],
 "metadata": {
  "kernelspec": {
   "display_name": "venv",
   "language": "python",
   "name": "python3"
  },
  "language_info": {
   "codemirror_mode": {
    "name": "ipython",
    "version": 3
   },
   "file_extension": ".py",
   "mimetype": "text/x-python",
   "name": "python",
   "nbconvert_exporter": "python",
   "pygments_lexer": "ipython3",
   "version": "3.11.11"
  }
 },
 "nbformat": 4,
 "nbformat_minor": 5
}
